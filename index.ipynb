{
 "cells": [
  {
   "cell_type": "markdown",
   "id": "a0717b92-b145-4499-baad-fa95a1a755cf",
   "metadata": {
    "id": "a0717b92-b145-4499-baad-fa95a1a755cf"
   },
   "source": [
    "## AHP in Python\n",
    "\n",
    "# The Comparissons\n",
    "\n"
   ]
  },
  {
   "cell_type": "markdown",
   "id": "52def875-21cf-4270-a9b2-d61aed9fc025",
   "metadata": {
    "id": "52def875-21cf-4270-a9b2-d61aed9fc025"
   },
   "source": [
    "1. Get the data into Python"
   ]
  },
  {
   "cell_type": "code",
   "execution_count": 1,
   "id": "5afba538-ee4e-4a1b-9573-22dcbb177db5",
   "metadata": {
    "id": "5afba538-ee4e-4a1b-9573-22dcbb177db5"
   },
   "outputs": [],
   "source": [
    "# the link to the data\n",
    "\n",
    "linkGoogle='https://docs.google.com/spreadsheets/d/e/2PACX-1vQba1g_agvC0XCOvOoZAQE1R7dPUSDGsOV5wminS5XAOfcVNufGZNkVs4iP5Lt2_rnbU96csHeYK6Ks/pub?output=xlsx'# the link to the data"
   ]
  },
  {
   "cell_type": "code",
   "execution_count": 2,
   "id": "vdG0rL9IuY8b",
   "metadata": {
    "colab": {
     "base_uri": "https://localhost:8080/",
     "height": 425
    },
    "id": "vdG0rL9IuY8b",
    "outputId": "cdb4fe38-39d2-49e8-a8a2-1e2feb46962d"
   },
   "outputs": [
    {
     "data": {
      "text/html": [
       "<iframe src=\"https://docs.google.com/spreadsheets/d/1w-dzjSGsZB2mdzRK5dYEDSRfn0eDP1RkYCIB-M1iKZI/edit?usp=sharing\" width=\"700\" height=\"400\"></iframe>\n"
      ],
      "text/plain": [
       "<IPython.core.display.HTML object>"
      ]
     },
     "metadata": {},
     "output_type": "display_data"
    }
   ],
   "source": [
    "%%html\n",
    "<iframe src=\"https://docs.google.com/spreadsheets/d/1w-dzjSGsZB2mdzRK5dYEDSRfn0eDP1RkYCIB-M1iKZI/edit?usp=sharing\" width=\"700\" height=\"400\"></iframe>"
   ]
  },
  {
   "cell_type": "markdown",
   "id": "7c73c2ca-2022-42e9-bf24-1559b215d7a9",
   "metadata": {
    "id": "7c73c2ca-2022-42e9-bf24-1559b215d7a9"
   },
   "source": [
    "2. Open each sheet:\n",
    "\n",
    "Above you have the link, but not the data yet. Let me get each comparisson sheet:"
   ]
  },
  {
   "cell_type": "code",
   "execution_count": 6,
   "id": "eb165cc5-95fb-499a-a6f5-9306914d7249",
   "metadata": {
    "id": "eb165cc5-95fb-499a-a6f5-9306914d7249"
   },
   "outputs": [],
   "source": [
    "import pandas as pd\n",
    "\n",
    "pairwise_learning = pd.read_excel(linkGoogle,sheet_name='learning', index_col=0) # notice\n",
    "pairwise_friends = pd.read_excel(linkGoogle,sheet_name='friends', index_col=0)\n",
    "pairwise_school_life = pd.read_excel(linkGoogle,sheet_name='school_life', index_col=0)\n",
    "pairwise_vocational = pd.read_excel(linkGoogle,sheet_name='vocational_training', index_col=0)\n",
    "pairwise_college = pd.read_excel(linkGoogle,sheet_name='college_prep', index_col=0)\n",
    "pairwise_music = pd.read_excel(linkGoogle,sheet_name='music_classes', index_col=0)\n",
    "pairwise_criteria = pd.read_excel(linkGoogle,sheet_name='criteria', index_col=0)"
   ]
  },
  {
   "cell_type": "markdown",
   "id": "cc2b0d2d-68f7-4f44-a016-7ade98c2edc0",
   "metadata": {
    "id": "cc2b0d2d-68f7-4f44-a016-7ade98c2edc0"
   },
   "source": [
    "# The Data Preparation\n",
    "\n",
    "3. Transform all adjacency matrices into pairwise comparissons:"
   ]
  },
  {
   "cell_type": "code",
   "execution_count": 8,
   "id": "7489673e-1160-4fb9-af4e-17bd6c3d47b5",
   "metadata": {
    "id": "7489673e-1160-4fb9-af4e-17bd6c3d47b5"
   },
   "outputs": [],
   "source": [
    "import networkx as nx\n",
    "import numpy as np\n",
    "\n",
    "# learning\n",
    "G_learning = nx.from_pandas_adjacency(pairwise_learning, create_using=nx.MultiDiGraph())\n",
    "learning_comparisons ={(e[0],e[1]):e[2]['weight'] for e in G_learning.edges(data=True) if np.isfinite(e[2]['weight'])}\n",
    "\n",
    "# friends\n",
    "G_friends = nx.from_pandas_adjacency(pairwise_friends,create_using=nx.MultiDiGraph())\n",
    "friends_comparisons={(e[0],e[1]):e[2]['weight'] for e in G_friends.edges(data=True) if np.isfinite(e[2]['weight'])}\n",
    "\n",
    "# school life\n",
    "G_school_life = nx.from_pandas_adjacency(pairwise_school_life,create_using=nx.MultiDiGraph())\n",
    "school_life_comparisons={(e[0],e[1]):e[2]['weight'] for e in G_school_life.edges(data=True) if np.isfinite(e[2]['weight'])}\n",
    "\n",
    "# vocational\n",
    "G_vocational = nx.from_pandas_adjacency(pairwise_vocational,create_using=nx.MultiDiGraph())\n",
    "vocational_comparisons={(e[0],e[1]):e[2]['weight'] for e in G_vocational.edges(data=True) if np.isfinite(e[2]['weight'])}\n",
    "\n",
    "# college prep\n",
    "G_college = nx.from_pandas_adjacency(pairwise_college,create_using=nx.MultiDiGraph())\n",
    "college_comparisons={(e[0],e[1]):e[2]['weight'] for e in G_college.edges(data=True) if np.isfinite(e[2]['weight'])}\n",
    "\n",
    "# music classes\n",
    "G_music = nx.from_pandas_adjacency(pairwise_music,create_using=nx.MultiDiGraph())\n",
    "music_comparisons={(e[0],e[1]):e[2]['weight'] for e in G_music.edges(data=True) if np.isfinite(e[2]['weight'])}\n",
    "\n",
    "G_CRIT = nx.from_pandas_adjacency(pairwise_criteria,create_using=nx.MultiDiGraph())\n",
    "criteria_comparisons ={(e[0],e[1]):e[2]['weight'] for e in G_CRIT.edges(data=True) if np.isfinite(e[2]['weight'])}"
   ]
  },
  {
   "cell_type": "markdown",
   "id": "537c0ad5-e1b0-4d49-a60c-e7a3a0d95c2d",
   "metadata": {
    "id": "537c0ad5-e1b0-4d49-a60c-e7a3a0d95c2d"
   },
   "source": [
    "# AHP\n",
    "\n",
    "\n",
    "\n",
    "4. The installation: we will install ahpy, but we also need a numpy version lower than 2.0"
   ]
  },
  {
   "cell_type": "code",
   "execution_count": 10,
   "id": "69e67f1d-408e-446b-9991-0566a0aaee5b",
   "metadata": {
    "colab": {
     "base_uri": "https://localhost:8080/"
    },
    "id": "69e67f1d-408e-446b-9991-0566a0aaee5b",
    "outputId": "43119a95-d03e-4c4b-d5c7-f363e8e52c77"
   },
   "outputs": [
    {
     "name": "stdout",
     "output_type": "stream",
     "text": [
      "Collecting numpy==1.26.4\n",
      "  Using cached numpy-1.26.4-cp312-cp312-macosx_11_0_arm64.whl.metadata (61 kB)\n",
      "Using cached numpy-1.26.4-cp312-cp312-macosx_11_0_arm64.whl (13.7 MB)\n",
      "Installing collected packages: numpy\n",
      "  Attempting uninstall: numpy\n",
      "    Found existing installation: numpy 1.26.4\n",
      "    Uninstalling numpy-1.26.4:\n",
      "      Successfully uninstalled numpy-1.26.4\n",
      "Successfully installed numpy-1.26.4\n",
      "Requirement already satisfied: ahpy in /opt/anaconda3/lib/python3.12/site-packages (2.0)\n",
      "Requirement already satisfied: numpy in /opt/anaconda3/lib/python3.12/site-packages (from ahpy) (1.26.4)\n",
      "Requirement already satisfied: scipy in /opt/anaconda3/lib/python3.12/site-packages (from ahpy) (1.13.1)\n"
     ]
    }
   ],
   "source": [
    "## install ONLY if you are in ANACONDA in a 3.10 environment, then restart kernel.\n",
    "## if you use BINDER, do not install neither\n",
    "## do NOT use in colab\n",
    "\n",
    "!pip install --force-reinstall numpy==1.26.4\n",
    "!pip install ahpy"
   ]
  },
  {
   "cell_type": "markdown",
   "id": "029fbb0d-9080-425a-a335-911dd95a77de",
   "metadata": {
    "id": "029fbb0d-9080-425a-a335-911dd95a77de"
   },
   "source": [
    "Once installed, we can call the library and use the **Compare** function:"
   ]
  },
  {
   "cell_type": "code",
   "execution_count": 14,
   "id": "16ec39e8-0c5e-4803-8a05-00b354bc2133",
   "metadata": {
    "colab": {
     "base_uri": "https://localhost:8080/",
     "height": 530
    },
    "id": "16ec39e8-0c5e-4803-8a05-00b354bc2133",
    "outputId": "b713f102-0ebb-46c9-b6c6-5e5858f69fa5"
   },
   "outputs": [],
   "source": [
    "import ahpy\n",
    "\n",
    "learning = ahpy.Compare('learning', learning_comparisons, random_index='saaty')\n",
    "friends = ahpy.Compare('friends', friends_comparisons, random_index='saaty')\n",
    "school_life = ahpy.Compare('school_life', school_life_comparisons, random_index='saaty')\n",
    "vocational = ahpy.Compare('vocational_training', vocational_comparisons, random_index='saaty')\n",
    "college = ahpy.Compare('college_prep', college_comparisons, random_index='saaty')\n",
    "music = ahpy.Compare('music_classes', music_comparisons, random_index='saaty')\n",
    "criteria = ahpy.Compare('criteria', criteria_comparisons, random_index='saaty')"
   ]
  },
  {
   "cell_type": "markdown",
   "id": "e6ab4dfb-efc1-4940-adf9-21e2940fcb33",
   "metadata": {
    "id": "e6ab4dfb-efc1-4940-adf9-21e2940fcb33"
   },
   "source": [
    "6. Create hierarchy:\n",
    "\n",
    "Remember that we have the **hierarchy** Alternatives -> Criteria -> Goal.\n",
    "\n",
    "At this stage, you just need to tell which are the children of the criteria.\n"
   ]
  },
  {
   "cell_type": "code",
   "execution_count": 16,
   "id": "645cc265-de8a-4704-a72d-9e8414738bfb",
   "metadata": {
    "id": "645cc265-de8a-4704-a72d-9e8414738bfb"
   },
   "outputs": [],
   "source": [
    "criteria.add_children([learning, friends, school_life, vocational, college, music])"
   ]
  },
  {
   "cell_type": "markdown",
   "id": "5c78aac0-2446-40f0-982e-a903e2cefd62",
   "metadata": {
    "id": "5c78aac0-2446-40f0-982e-a903e2cefd62"
   },
   "source": [
    "The criteria are then weighted, and the alternatives are scored relative to each other based on the decision-maker's performance of a series of pairwise comparisons. This weighting and scoring process generates a total score for each alternative, by which they are ranked.\n",
    "\n",
    "We can see which criterion was more valuable like this:"
   ]
  },
  {
   "cell_type": "code",
   "execution_count": 19,
   "id": "12123239-f02d-4af0-b7f2-d930f28f3025",
   "metadata": {
    "id": "12123239-f02d-4af0-b7f2-d930f28f3025"
   },
   "outputs": [
    {
     "name": "stdout",
     "output_type": "stream",
     "text": [
      "{'learning': 0.3208, 'college_prep': 0.2374, 'friends': 0.1395, 'music_classes': 0.1391, 'vocational_training': 0.1285, 'school_life': 0.0348}\n"
     ]
    }
   ],
   "source": [
    "print(criteria.global_weights)"
   ]
  },
  {
   "cell_type": "code",
   "execution_count": null,
   "id": "a0c83690-a420-43ba-897c-907cdeb33230",
   "metadata": {},
   "outputs": [],
   "source": [
    "From the above, we can see the specific weights of each criterion that the schools are being evaluated by.\n",
    "\n",
    "We can see that **Learning** was considered to have the most relative importance to Prof Saaty's son. Then, after Learning, the criteria ranked from most relative importance to least was:\n",
    "\n",
    "2. College Prep\n",
    "3. Friends\n",
    "4. Music Classes\n",
    "5. Vocational Training\n",
    "6. School Life"
   ]
  },
  {
   "cell_type": "markdown",
   "id": "ebc25b0c-6a21-439e-a4da-6c8d5e50797d",
   "metadata": {
    "id": "ebc25b0c-6a21-439e-a4da-6c8d5e50797d"
   },
   "source": [
    "6. See result:\n",
    "\n",
    "Now, you may know which is the best option:"
   ]
  },
  {
   "cell_type": "code",
   "execution_count": 22,
   "id": "4709e721-ccb1-40c6-bf62-d05d6207c495",
   "metadata": {
    "id": "4709e721-ccb1-40c6-bf62-d05d6207c495"
   },
   "outputs": [
    {
     "name": "stdout",
     "output_type": "stream",
     "text": [
      "{'B': 0.3785, 'A': 0.3674, 'C': 0.2542}\n"
     ]
    }
   ],
   "source": [
    "print(criteria.target_weights)"
   ]
  },
  {
   "cell_type": "markdown",
   "id": "6cdbc44f-2f7d-4865-81d5-6741185afdf3",
   "metadata": {
    "id": "ebc25b0c-6a21-439e-a4da-6c8d5e50797d"
   },
   "source": [
    "From this result, we can see which alternative (school) ranked the highest, which was **B, Haverford**.\n",
    "\n",
    "However, the difference between the score for B, Haverford (0.3785), and A, Lower Merion (0.3674), is not significantly large. \n",
    "\n",
    "As Prof Saaty says in his lecture video, a one-percent difference could be systemic error. \n",
    "\n",
    "He even mentioned that his son complained that \"Haverford (B) is not much better than Lower Merion (A)\", which turned out to be true! "
   ]
  },
  {
   "cell_type": "markdown",
   "id": "2dc9dcde-7d2b-4bb8-8d93-c16b73f4347b",
   "metadata": {
    "id": "2dc9dcde-7d2b-4bb8-8d93-c16b73f4347b"
   },
   "source": [
    "7. Assess consistency\n",
    "\n",
    "The AHP algorithm assumes that when you are comparing you are consistent; but it may detect if you have been inconsistent:"
   ]
  },
  {
   "cell_type": "code",
   "execution_count": 29,
   "id": "e9de4e1a-6ac0-48d9-b19f-2f335fb731be",
   "metadata": {
    "id": "e9de4e1a-6ac0-48d9-b19f-2f335fb731be",
    "scrolled": true
   },
   "outputs": [
    {
     "data": {
      "text/plain": [
       "[('learning', 0.0516),\n",
       " ('friends', 0.0),\n",
       " ('school_life', 0.0),\n",
       " ('vocational_training', 0.2005),\n",
       " ('college_prep', 0.0),\n",
       " ('music_classes', 0.0516),\n",
       " ('criteria', 0.2272)]"
      ]
     },
     "execution_count": 29,
     "metadata": {},
     "output_type": "execute_result"
    }
   ],
   "source": [
    "[(val.name,val.consistency_ratio) for val in [learning, friends, school_life, vocational, college, music, criteria]]"
   ]
  },
  {
   "cell_type": "markdown",
   "id": "906a00c0-5652-4090-875a-36cd87c1c9c7",
   "metadata": {
    "id": "2dc9dcde-7d2b-4bb8-8d93-c16b73f4347b"
   },
   "source": [
    "We should review comparisons if we get values greater than 0.1. If your consistency ratio is not less than or equal to 0.1, then it is necessary to revise your judgments.\n",
    "\n",
    "For this instance, **vocational_training** (0.2005) and **criteria** (0.2272) both are above 0.1.\n",
    "\n",
    "Future steps to reduce these ratios are to:\n",
    "- Review the pairwise comparison matrix\n",
    "- Pinpoint the judgments that deviate most significantly from the expected ratios"
   ]
  }
 ],
 "metadata": {
  "colab": {
   "provenance": []
  },
  "kernelspec": {
   "display_name": "Python 3 (ipykernel)",
   "language": "python",
   "name": "python3"
  },
  "language_info": {
   "codemirror_mode": {
    "name": "ipython",
    "version": 3
   },
   "file_extension": ".py",
   "mimetype": "text/x-python",
   "name": "python",
   "nbconvert_exporter": "python",
   "pygments_lexer": "ipython3",
   "version": "3.12.4"
  }
 },
 "nbformat": 4,
 "nbformat_minor": 5
}
